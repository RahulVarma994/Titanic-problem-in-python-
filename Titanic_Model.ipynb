{
 "cells": [
  {
   "cell_type": "markdown",
   "metadata": {},
   "source": [
    "# Importing Libraries"
   ]
  },
  {
   "cell_type": "code",
   "execution_count": 131,
   "metadata": {},
   "outputs": [],
   "source": [
    "import pandas as pd\n",
    "import numpy as np\n",
    "from sklearn import preprocessing\n",
    "from sklearn.linear_model import LogisticRegression\n",
    "from sklearn.cross_validation import train_test_split\n",
    "from sklearn import metrics \n",
    "from sklearn.metrics import classification_report\n",
    "from sklearn.ensemble import BaggingClassifier\n",
    "import matplotlib.pyplot as plt"
   ]
  },
  {
   "cell_type": "code",
   "execution_count": 244,
   "metadata": {},
   "outputs": [
    {
     "data": {
      "text/html": [
       "<div>\n",
       "<style scoped>\n",
       "    .dataframe tbody tr th:only-of-type {\n",
       "        vertical-align: middle;\n",
       "    }\n",
       "\n",
       "    .dataframe tbody tr th {\n",
       "        vertical-align: top;\n",
       "    }\n",
       "\n",
       "    .dataframe thead th {\n",
       "        text-align: right;\n",
       "    }\n",
       "</style>\n",
       "<table border=\"1\" class=\"dataframe\">\n",
       "  <thead>\n",
       "    <tr style=\"text-align: right;\">\n",
       "      <th></th>\n",
       "      <th>PassengerId</th>\n",
       "      <th>Survived</th>\n",
       "      <th>Pclass</th>\n",
       "      <th>Name</th>\n",
       "      <th>Sex</th>\n",
       "      <th>Age</th>\n",
       "      <th>SibSp</th>\n",
       "      <th>Parch</th>\n",
       "      <th>Ticket</th>\n",
       "      <th>Fare</th>\n",
       "      <th>Cabin</th>\n",
       "      <th>Embarked</th>\n",
       "    </tr>\n",
       "  </thead>\n",
       "  <tbody>\n",
       "    <tr>\n",
       "      <th>174</th>\n",
       "      <td>175</td>\n",
       "      <td>0</td>\n",
       "      <td>1</td>\n",
       "      <td>Smith, Mr. James Clinch</td>\n",
       "      <td>male</td>\n",
       "      <td>56.0</td>\n",
       "      <td>0</td>\n",
       "      <td>0</td>\n",
       "      <td>17764</td>\n",
       "      <td>30.6958</td>\n",
       "      <td>A7</td>\n",
       "      <td>C</td>\n",
       "    </tr>\n",
       "  </tbody>\n",
       "</table>\n",
       "</div>"
      ],
      "text/plain": [
       "     PassengerId  Survived  Pclass                     Name   Sex   Age  \\\n",
       "174          175         0       1  Smith, Mr. James Clinch  male  56.0   \n",
       "\n",
       "     SibSp  Parch Ticket     Fare Cabin Embarked  \n",
       "174      0      0  17764  30.6958    A7        C  "
      ]
     },
     "execution_count": 244,
     "metadata": {},
     "output_type": "execute_result"
    }
   ],
   "source": [
    "df_3 = pd.read_csv(\"train.csv\")\n",
    "df_2 = pd.read_csv(\"test.csv\")\n",
    "\n",
    "df_3[df_3['Name'] == 'Smith, Mr. James Clinch']\n",
    "#df_2[df_2['Name'] == 'Smith, Mr. James Clinch']"
   ]
  },
  {
   "cell_type": "code",
   "execution_count": 133,
   "metadata": {},
   "outputs": [
    {
     "name": "stdout",
     "output_type": "stream",
     "text": [
      "(891, 12) (418, 11)\n"
     ]
    }
   ],
   "source": [
    "print(df_3.shape, df_2.shape)"
   ]
  },
  {
   "cell_type": "code",
   "execution_count": 134,
   "metadata": {},
   "outputs": [
    {
     "data": {
      "text/plain": [
       "(891, 11)"
      ]
     },
     "execution_count": 134,
     "metadata": {},
     "output_type": "execute_result"
    }
   ],
   "source": [
    "y = df_3['Survived']\n",
    "\n",
    "df_3 = df_3.drop(['Survived'], axis = 1)\n",
    "df_3.shape"
   ]
  },
  {
   "cell_type": "code",
   "execution_count": 135,
   "metadata": {},
   "outputs": [
    {
     "data": {
      "text/plain": [
       "PassengerId       0\n",
       "Pclass            0\n",
       "Name              0\n",
       "Sex               0\n",
       "Age             263\n",
       "SibSp             0\n",
       "Parch             0\n",
       "Ticket            0\n",
       "Fare              1\n",
       "Cabin          1014\n",
       "Embarked          2\n",
       "dtype: int64"
      ]
     },
     "execution_count": 135,
     "metadata": {},
     "output_type": "execute_result"
    }
   ],
   "source": [
    "df = pd.concat([df_3, df_2])\n",
    "\n",
    "df.isnull().sum()"
   ]
  },
  {
   "cell_type": "code",
   "execution_count": 136,
   "metadata": {},
   "outputs": [
    {
     "data": {
      "text/plain": [
       "PassengerId    0\n",
       "Pclass         0\n",
       "Name           0\n",
       "Sex            0\n",
       "Age            0\n",
       "SibSp          0\n",
       "Parch          0\n",
       "Ticket         0\n",
       "Fare           1\n",
       "Cabin          0\n",
       "Embarked       0\n",
       "dtype: int64"
      ]
     },
     "execution_count": 136,
     "metadata": {},
     "output_type": "execute_result"
    }
   ],
   "source": [
    "df['Age'] = df['Age'].fillna(df['Age'].median())\n",
    "df['Embarked'] =df['Embarked'].fillna('S')\n",
    "df['Cabin'] = df['Cabin'].notnull()\n",
    "\n",
    "df.isnull().sum()"
   ]
  },
  {
   "cell_type": "markdown",
   "metadata": {},
   "source": [
    "# Feature Engineering"
   ]
  },
  {
   "cell_type": "code",
   "execution_count": 137,
   "metadata": {},
   "outputs": [
    {
     "data": {
      "text/plain": [
       "array(['Mr', 'Mrs', 'Miss', 'Master', 'Don', 'Rev', 'Dr', 'Mme', 'Ms',\n",
       "       'Major', 'Lady', 'Sir', 'Mlle', 'Col', 'Capt', 'the Countess',\n",
       "       'Jonkheer', 'Dona'], dtype=object)"
      ]
     },
     "execution_count": 137,
     "metadata": {},
     "output_type": "execute_result"
    }
   ],
   "source": [
    "df['name_s'] = df['Name'].apply(lambda x : x.split(\".\")[0].split(\",\")[1].strip())\n",
    "df['name_s'].unique() "
   ]
  },
  {
   "cell_type": "code",
   "execution_count": 138,
   "metadata": {},
   "outputs": [],
   "source": [
    "df['name_s'] = df['name_s'].replace('Mlle','Miss')\n",
    "df['name_s'] = df['name_s'].replace('Mme','Mrs')\n",
    "s = ( 'Major', 'Lady', 'Sir','the Countess', 'Jonkheer', 'Don', 'Rev', 'Dr','Capt','Col')\n",
    "df['name_s'] =  df['name_s'].replace(s,'special')"
   ]
  },
  {
   "cell_type": "code",
   "execution_count": 139,
   "metadata": {},
   "outputs": [],
   "source": [
    "df['Age'] = pd.qcut(df['Age'], q=4, labels = False)\n",
    "df['Fare'] = pd.qcut(df['Fare'], q=4, labels = False)"
   ]
  },
  {
   "cell_type": "code",
   "execution_count": 140,
   "metadata": {},
   "outputs": [],
   "source": [
    "df = df.drop(['Name', 'Ticket','PassengerId', 'Fare'], axis=1)"
   ]
  },
  {
   "cell_type": "code",
   "execution_count": 141,
   "metadata": {},
   "outputs": [
    {
     "name": "stdout",
     "output_type": "stream",
     "text": [
      "<class 'pandas.core.frame.DataFrame'>\n",
      "Int64Index: 1309 entries, 0 to 417\n",
      "Data columns (total 8 columns):\n",
      "Pclass      1309 non-null int64\n",
      "Sex         1309 non-null object\n",
      "Age         1309 non-null int64\n",
      "SibSp       1309 non-null int64\n",
      "Parch       1309 non-null int64\n",
      "Cabin       1309 non-null bool\n",
      "Embarked    1309 non-null object\n",
      "name_s      1309 non-null object\n",
      "dtypes: bool(1), int64(4), object(3)\n",
      "memory usage: 83.1+ KB\n"
     ]
    }
   ],
   "source": [
    "df.info()"
   ]
  },
  {
   "cell_type": "markdown",
   "metadata": {},
   "source": [
    "# Encoding"
   ]
  },
  {
   "cell_type": "code",
   "execution_count": 149,
   "metadata": {},
   "outputs": [
    {
     "name": "stdout",
     "output_type": "stream",
     "text": [
      "<class 'pandas.core.frame.DataFrame'>\n",
      "Int64Index: 1309 entries, 0 to 417\n",
      "Data columns (total 21 columns):\n",
      "Pclass            1309 non-null int64\n",
      "SibSp             1309 non-null int64\n",
      "Parch             1309 non-null int64\n",
      "Sex_female        1309 non-null uint8\n",
      "Sex_male          1309 non-null uint8\n",
      "Age_0             1309 non-null uint8\n",
      "Age_1             1309 non-null uint8\n",
      "Age_2             1309 non-null uint8\n",
      "Age_3             1309 non-null uint8\n",
      "Cabin_False       1309 non-null uint8\n",
      "Cabin_True        1309 non-null uint8\n",
      "name_s_Dona       1309 non-null uint8\n",
      "name_s_Master     1309 non-null uint8\n",
      "name_s_Miss       1309 non-null uint8\n",
      "name_s_Mr         1309 non-null uint8\n",
      "name_s_Mrs        1309 non-null uint8\n",
      "name_s_Ms         1309 non-null uint8\n",
      "name_s_special    1309 non-null uint8\n",
      "Embarked_C        1309 non-null uint8\n",
      "Embarked_Q        1309 non-null uint8\n",
      "Embarked_S        1309 non-null uint8\n",
      "dtypes: int64(3), uint8(18)\n",
      "memory usage: 103.9 KB\n"
     ]
    }
   ],
   "source": [
    "df_dum = pd.get_dummies(df, columns = ['Sex','Age','Cabin','name_s','Embarked'])\n",
    "df_dum.info()"
   ]
  },
  {
   "cell_type": "code",
   "execution_count": 107,
   "metadata": {},
   "outputs": [
    {
     "name": "stdout",
     "output_type": "stream",
     "text": [
      "<class 'pandas.core.frame.DataFrame'>\n",
      "Int64Index: 1309 entries, 0 to 417\n",
      "Data columns (total 8 columns):\n",
      "Pclass      1309 non-null int64\n",
      "Sex         1309 non-null object\n",
      "Age         1309 non-null int64\n",
      "SibSp       1309 non-null int64\n",
      "Parch       1309 non-null int64\n",
      "Cabin       1309 non-null bool\n",
      "Embarked    1309 non-null object\n",
      "name_s      1309 non-null object\n",
      "dtypes: bool(1), int64(4), object(3)\n",
      "memory usage: 83.1+ KB\n"
     ]
    },
    {
     "data": {
      "text/plain": [
       "(1309, 8)"
      ]
     },
     "execution_count": 107,
     "metadata": {},
     "output_type": "execute_result"
    }
   ],
   "source": [
    "df.info()\n",
    "df.shape"
   ]
  },
  {
   "cell_type": "code",
   "execution_count": 118,
   "metadata": {},
   "outputs": [],
   "source": [
    "TRAIN_X = df_dum[0:800]\n",
    "TEST_X = df_dum[800:891]\n",
    "\n",
    "TRAIN_Y = y[0:800]\n",
    "TEST_Y = y[800:891]\n",
    "\n",
    "#TRAIN_X = TRAIN_X.drop(['name_s_Mrs','Embarked_Q'], axis = 1)\n",
    "#TEST_X = TEST_X.drop(['name_s_Mrs','Embarked_Q'], axis = 1)\n",
    "\n",
    "actual_testX = df_dum[891:]"
   ]
  },
  {
   "cell_type": "markdown",
   "metadata": {},
   "source": [
    "# Modeling Algorithms"
   ]
  },
  {
   "cell_type": "markdown",
   "metadata": {},
   "source": [
    "# Random Forest Classifier"
   ]
  },
  {
   "cell_type": "code",
   "execution_count": 171,
   "metadata": {},
   "outputs": [
    {
     "name": "stdout",
     "output_type": "stream",
     "text": [
      "             precision    recall  f1-score   support\n",
      "\n",
      "          0       0.86      0.89      0.88        57\n",
      "          1       0.81      0.76      0.79        34\n",
      "\n",
      "avg / total       0.85      0.85      0.85        91\n",
      "\n",
      "[0.13608577 0.1077757  0.09241538 0.21208655 0.20653688 0.0269161\n",
      " 0.02320509 0.02213812 0.02387044 0.04022247 0.05023715 0.02020984\n",
      " 0.01417219 0.02412831]\n",
      "----------------------------------------\n"
     ]
    },
    {
     "data": {
      "image/png": "[encoded data removed]",
      "text/plain": [
       "<Figure size 432x288 with 1 Axes>"
      ]
     },
     "metadata": {},
     "output_type": "display_data"
    }
   ],
   "source": [
    "from sklearn.ensemble import RandomForestClassifier\n",
    "\n",
    "randomforest = RandomForestClassifier(n_estimators = 100)\n",
    "randomforest.fit(TRAIN_X, TRAIN_Y)\n",
    "y_pred_rf = randomforest.predict(TEST_X)\n",
    "print(classification_report(TEST_Y, y_pred_rf))\n",
    "\n",
    "print(randomforest.feature_importances_)\n",
    "\n",
    "print(\"-\"*40)\n",
    "\n",
    "col_names = list(TRAIN_X.columns)\n",
    "featur_imp = pd.Series(randomforest.feature_importances_, col_names).sort_values(ascending = False)\n",
    "featur_imp.plot(kind = 'bar')\n",
    "plt.suptitle('Random Forest', fontsize=20)\n",
    "plt.xlabel('Feature Names', fontsize=18)\n",
    "plt.ylabel('Feature Importance', fontsize=16)\n",
    "plt.show()"
   ]
  },
  {
   "cell_type": "markdown",
   "metadata": {},
   "source": [
    "# Adaboost Algorithm"
   ]
  },
  {
   "cell_type": "code",
   "execution_count": 187,
   "metadata": {},
   "outputs": [
    {
     "name": "stdout",
     "output_type": "stream",
     "text": [
      "             precision    recall  f1-score   support\n",
      "\n",
      "          0       0.82      0.93      0.87        57\n",
      "          1       0.85      0.65      0.73        34\n",
      "\n",
      "avg / total       0.83      0.82      0.82        91\n",
      "\n",
      "----------------------------------------\n"
     ]
    },
    {
     "name": "stderr",
     "output_type": "stream",
     "text": [
      "/usr/local/lib/python3.5/dist-packages/sklearn/tree/tree.py:508: RuntimeWarning: invalid value encountered in true_divide\n",
      "  return self.tree_.compute_feature_importances()\n"
     ]
    },
    {
     "data": {
      "image/png": "[encoded data removed]",
      "text/plain": [
       "<Figure size 432x288 with 1 Axes>"
      ]
     },
     "metadata": {},
     "output_type": "display_data"
    }
   ],
   "source": [
    "from sklearn.ensemble import AdaBoostClassifier #For Classification\n",
    "from sklearn.ensemble import AdaBoostRegressor #For Regression\n",
    "from sklearn.tree import DecisionTreeClassifier\n",
    "dt = DecisionTreeClassifier() \n",
    "clf = AdaBoostClassifier(n_estimators=161, base_estimator= dt ,learning_rate=1)\n",
    "#Above I have used decision tree as a base estimator, you can use any ML learner as base estimator if it ac# cepts sample weight \n",
    "clf.fit(TRAIN_X, TRAIN_Y)\n",
    "\n",
    "y_pred_ada = clf.predict(TEST_X)\n",
    "print(classification_report(TEST_Y, y_pred_ada))\n",
    "\n",
    "print(\"-\"*40)\n",
    "\n",
    "col_names = list(TRAIN_X.columns)\n",
    "featur_imp = pd.Series(clf.feature_importances_, col_names).sort_values(ascending = False)\n",
    "featur_imp.plot(kind = 'bar')\n",
    "plt.suptitle('Adaboost Algorithm', fontsize=20)\n",
    "plt.xlabel('Feature Names', fontsize=18)\n",
    "plt.ylabel('Feature Importance', fontsize=16)\n",
    "plt.show()"
   ]
  },
  {
   "cell_type": "markdown",
   "metadata": {},
   "source": [
    "# Stochastic Gradient Descent Algorithm"
   ]
  },
  {
   "cell_type": "code",
   "execution_count": 188,
   "metadata": {},
   "outputs": [
    {
     "name": "stdout",
     "output_type": "stream",
     "text": [
      "Classification Report\n",
      "----------------------------------------\n",
      "             precision    recall  f1-score   support\n",
      "\n",
      "          0       0.89      0.74      0.81        57\n",
      "          1       0.66      0.85      0.74        34\n",
      "\n",
      "avg / total       0.81      0.78      0.78        91\n",
      "\n"
     ]
    },
    {
     "name": "stderr",
     "output_type": "stream",
     "text": [
      "/usr/local/lib/python3.5/dist-packages/sklearn/linear_model/stochastic_gradient.py:128: FutureWarning: max_iter and tol parameters have been added in <class 'sklearn.linear_model.stochastic_gradient.SGDClassifier'> in 0.19. If both are left unset, they default to max_iter=5 and tol=None. If tol is not None, max_iter defaults to max_iter=1000. From 0.21, default max_iter will be 1000, and default tol will be 1e-3.\n",
      "  \"and default tol will be 1e-3.\" % type(self), FutureWarning)\n"
     ]
    }
   ],
   "source": [
    "from sklearn.linear_model import SGDClassifier\n",
    "\n",
    "sgd = SGDClassifier()\n",
    "sgd.fit(TRAIN_X, TRAIN_Y)\n",
    "y_pred_sgd = sgd.predict(TEST_X)\n",
    "\n",
    "print(\"Classification Report\")\n",
    "print(\"-\"*40)\n",
    "print(classification_report(TEST_Y, y_pred_sgd))"
   ]
  },
  {
   "cell_type": "markdown",
   "metadata": {},
   "source": [
    "# Gaussian Naive Bayes Alogorithm"
   ]
  },
  {
   "cell_type": "code",
   "execution_count": 189,
   "metadata": {},
   "outputs": [
    {
     "name": "stdout",
     "output_type": "stream",
     "text": [
      "Classification Report\n",
      "----------------------------------------\n",
      "             precision    recall  f1-score   support\n",
      "\n",
      "          0       0.85      0.81      0.83        57\n",
      "          1       0.70      0.76      0.73        34\n",
      "\n",
      "avg / total       0.80      0.79      0.79        91\n",
      "\n"
     ]
    }
   ],
   "source": [
    "from sklearn.naive_bayes import GaussianNB\n",
    "\n",
    "GNB = GaussianNB()\n",
    "GNB.fit(TRAIN_X, TRAIN_Y)\n",
    "y_pred_GNB = GNB.predict(TEST_X)\n",
    "\n",
    "print(\"Classification Report\")\n",
    "print(\"-\"*40)\n",
    "print(classification_report(TEST_Y, y_pred_GNB))"
   ]
  },
  {
   "cell_type": "markdown",
   "metadata": {},
   "source": [
    "# SVC Algorithm"
   ]
  },
  {
   "cell_type": "code",
   "execution_count": 190,
   "metadata": {},
   "outputs": [
    {
     "name": "stdout",
     "output_type": "stream",
     "text": [
      "Classification Report\n",
      "----------------------------------------\n",
      "             precision    recall  f1-score   support\n",
      "\n",
      "          0       0.81      0.89      0.85        57\n",
      "          1       0.79      0.65      0.71        34\n",
      "\n",
      "avg / total       0.80      0.80      0.80        91\n",
      "\n"
     ]
    }
   ],
   "source": [
    "from sklearn.svm import SVC\n",
    "\n",
    "svc = SVC()\n",
    "svc.fit(TRAIN_X, TRAIN_Y)\n",
    "y_pred_svc = svc.predict(TEST_X)\n",
    "\n",
    "print(\"Classification Report\")\n",
    "print(\"-\"*40)\n",
    "print(classification_report(TEST_Y, y_pred_svc))"
   ]
  },
  {
   "cell_type": "markdown",
   "metadata": {},
   "source": [
    "# Linear SVC Algorithm"
   ]
  },
  {
   "cell_type": "code",
   "execution_count": 191,
   "metadata": {},
   "outputs": [
    {
     "name": "stdout",
     "output_type": "stream",
     "text": [
      "Classification Report\n",
      "----------------------------------------\n",
      "             precision    recall  f1-score   support\n",
      "\n",
      "          0       0.83      0.84      0.83        57\n",
      "          1       0.73      0.71      0.72        34\n",
      "\n",
      "avg / total       0.79      0.79      0.79        91\n",
      "\n"
     ]
    }
   ],
   "source": [
    "from sklearn.svm import LinearSVC\n",
    "\n",
    "linear_svc = LinearSVC()\n",
    "linear_svc.fit(TRAIN_X, TRAIN_Y)\n",
    "y_pred_Lsvc = linear_svc.predict(TEST_X)\n",
    "\n",
    "print(\"Classification Report\")\n",
    "print(\"-\"*40)\n",
    "print(classification_report(TEST_Y, y_pred_Lsvc))"
   ]
  },
  {
   "cell_type": "markdown",
   "metadata": {},
   "source": [
    "# ROC-AUC Curve Testing"
   ]
  },
  {
   "cell_type": "code",
   "execution_count": 121,
   "metadata": {},
   "outputs": [],
   "source": [
    "from sklearn.metrics import roc_curve, auc\n",
    "import matplotlib.pyplot as plt\n",
    "import random"
   ]
  },
  {
   "cell_type": "markdown",
   "metadata": {},
   "source": [
    "# ROC-AUC Curve for Random Forest"
   ]
  },
  {
   "cell_type": "code",
   "execution_count": 166,
   "metadata": {},
   "outputs": [
    {
     "data": {
      "image/png": "[encoded data removed]",
      "text/plain": [
       "<Figure size 432x288 with 1 Axes>"
      ]
     },
     "metadata": {},
     "output_type": "display_data"
    }
   ],
   "source": [
    "# ROC AUC Curve for Random Forest\n",
    "\n",
    "actual = TEST_Y\n",
    "predicted = y_pred_rf\n",
    "\n",
    "false_positive_rate, true_positive_rate, thresholds = roc_curve(actual, predicted)\n",
    "roc_auc = auc(false_positive_rate, true_positive_rate)\n",
    "\n",
    "plt.title('Random Forest ROC')\n",
    "plt.plot(false_positive_rate, true_positive_rate, 'b',\n",
    "label='AUC = %0.2f'% roc_auc)\n",
    "plt.legend(loc='lower right')\n",
    "plt.plot([0,1],[0,1],'r--')\n",
    "plt.xlim([-0.1,1.2])\n",
    "plt.ylim([-0.1,1.2])\n",
    "plt.ylabel('True Positive Rate')\n",
    "plt.xlabel('False Positive Rate')\n",
    "plt.show()"
   ]
  },
  {
   "cell_type": "markdown",
   "metadata": {},
   "source": [
    "# ROC-AUC Curve for Adaboost"
   ]
  },
  {
   "cell_type": "code",
   "execution_count": 165,
   "metadata": {},
   "outputs": [
    {
     "data": {
      "image/png": "[encoded data removed]",
      "text/plain": [
       "<Figure size 432x288 with 1 Axes>"
      ]
     },
     "metadata": {},
     "output_type": "display_data"
    }
   ],
   "source": [
    "actual = TEST_Y\n",
    "predicted = y_pred_ada\n",
    "\n",
    "false_positive_rate, true_positive_rate, thresholds = roc_curve(actual, predicted)\n",
    "roc_auc = auc(false_positive_rate, true_positive_rate)\n",
    "\n",
    "plt.title('Adaboost ROC')\n",
    "plt.plot(false_positive_rate, true_positive_rate, 'b',\n",
    "label='AUC = %0.2f'% roc_auc)\n",
    "plt.legend(loc='lower right')\n",
    "plt.plot([0,1],[0,1],'r--')\n",
    "plt.xlim([-0.1,1.2])\n",
    "plt.ylim([-0.1,1.2])\n",
    "plt.ylabel('True Positive Rate')\n",
    "plt.xlabel('False Positive Rate')\n",
    "plt.show()"
   ]
  },
  {
   "cell_type": "markdown",
   "metadata": {},
   "source": [
    "# ROC-AUC for Stochastic Gradient Descent"
   ]
  },
  {
   "cell_type": "code",
   "execution_count": 164,
   "metadata": {},
   "outputs": [
    {
     "data": {
      "image/png": "[encoded data removed]",
      "text/plain": [
       "<Figure size 432x288 with 1 Axes>"
      ]
     },
     "metadata": {},
     "output_type": "display_data"
    }
   ],
   "source": [
    "actual = TEST_Y\n",
    "predicted = y_pred_sgd\n",
    "\n",
    "false_positive_rate, true_positive_rate, thresholds = roc_curve(actual, predicted)\n",
    "roc_auc = auc(false_positive_rate, true_positive_rate)\n",
    "\n",
    "plt.title('Stochastic Gradient Descent ROC')\n",
    "plt.plot(false_positive_rate, true_positive_rate, 'b',\n",
    "label='AUC = %0.2f'% roc_auc)\n",
    "plt.legend(loc='lower right')\n",
    "plt.plot([0,1],[0,1],'r--')\n",
    "plt.xlim([-0.1,1.2])\n",
    "plt.ylim([-0.1,1.2])\n",
    "plt.ylabel('True Positive Rate')\n",
    "plt.xlabel('False Positive Rate')\n",
    "plt.show()"
   ]
  },
  {
   "cell_type": "markdown",
   "metadata": {},
   "source": [
    "# ROC-AUC Curve for SVC"
   ]
  },
  {
   "cell_type": "code",
   "execution_count": 163,
   "metadata": {},
   "outputs": [
    {
     "data": {
      "image/png": "[encoded data removed]",
      "text/plain": [
       "<Figure size 432x288 with 1 Axes>"
      ]
     },
     "metadata": {},
     "output_type": "display_data"
    }
   ],
   "source": [
    "actual = TEST_Y\n",
    "predicted = y_pred_svc\n",
    "\n",
    "false_positive_rate, true_positive_rate, thresholds = roc_curve(actual, predicted)\n",
    "roc_auc = auc(false_positive_rate, true_positive_rate)\n",
    "\n",
    "plt.title('Support Vector Machines ROC')\n",
    "plt.plot(false_positive_rate, true_positive_rate, 'b',\n",
    "label='AUC = %0.2f'% roc_auc)\n",
    "plt.legend(loc='lower right')\n",
    "plt.plot([0,1],[0,1],'r--')\n",
    "plt.xlim([-0.1,1.2])\n",
    "plt.ylim([-0.1,1.2])\n",
    "plt.ylabel('True Positive Rate')\n",
    "plt.xlabel('False Positive Rate')\n",
    "plt.show()"
   ]
  },
  {
   "cell_type": "markdown",
   "metadata": {},
   "source": [
    "# ROC-AUC Curve for SVC"
   ]
  },
  {
   "cell_type": "code",
   "execution_count": 162,
   "metadata": {},
   "outputs": [
    {
     "data": {
      "image/png": "[encoded data removed]",
      "text/plain": [
       "<Figure size 432x288 with 1 Axes>"
      ]
     },
     "metadata": {},
     "output_type": "display_data"
    }
   ],
   "source": [
    "actual = TEST_Y\n",
    "predicted = y_pred_Lsvc\n",
    "\n",
    "false_positive_rate, true_positive_rate, thresholds = roc_curve(actual, predicted)\n",
    "roc_auc = auc(false_positive_rate, true_positive_rate)\n",
    "\n",
    "plt.title('Support Vector Machines (Linear SVC) ROC')\n",
    "plt.plot(false_positive_rate, true_positive_rate, 'b',\n",
    "label='AUC = %0.2f'% roc_auc)\n",
    "plt.legend(loc='lower right')\n",
    "plt.plot([0,1],[0,1],'r--')\n",
    "plt.xlim([-0.1,1.2])\n",
    "plt.ylim([-0.1,1.2])\n",
    "plt.ylabel('True Positive Rate')\n",
    "plt.xlabel('False Positive Rate')\n",
    "plt.show()"
   ]
  },
  {
   "cell_type": "markdown",
   "metadata": {},
   "source": [
    "# ROC-AUC Curve for Gaussian Naive Bayes"
   ]
  },
  {
   "cell_type": "code",
   "execution_count": 160,
   "metadata": {},
   "outputs": [
    {
     "data": {
      "image/png": "[encoded data removed]",
      "text/plain": [
       "<Figure size 432x288 with 1 Axes>"
      ]
     },
     "metadata": {},
     "output_type": "display_data"
    }
   ],
   "source": [
    "actual = TEST_Y\n",
    "predicted = y_pred_GNB\n",
    "\n",
    "false_positive_rate, true_positive_rate, thresholds = roc_curve(actual, predicted)\n",
    "roc_auc = auc(false_positive_rate, true_positive_rate)\n",
    "\n",
    "plt.title('Gaussian Naive Bayes ROC')\n",
    "plt.plot(false_positive_rate, true_positive_rate, 'b',\n",
    "label='AUC = %0.2f'% roc_auc)\n",
    "plt.legend(loc='lower right')\n",
    "plt.plot([0,1],[0,1],'r--')\n",
    "plt.xlim([-0.1,1.2])\n",
    "plt.ylim([-0.1,1.2])\n",
    "plt.ylabel('True Positive Rate')\n",
    "plt.xlabel('False Positive Rate')\n",
    "plt.show()"
   ]
  },
  {
   "cell_type": "markdown",
   "metadata": {},
   "source": [
    "# Model Tuning - Grid Search & Random Forest Classifier"
   ]
  },
  {
   "cell_type": "code",
   "execution_count": 197,
   "metadata": {},
   "outputs": [
    {
     "name": "stdout",
     "output_type": "stream",
     "text": [
      "             precision    recall  f1-score   support\n",
      "\n",
      "          0       0.88      0.89      0.89        57\n",
      "          1       0.82      0.79      0.81        34\n",
      "\n",
      "avg / total       0.86      0.86      0.86        91\n",
      "\n"
     ]
    },
    {
     "data": {
      "image/png": "[encoded data removed]",
      "text/plain": [
       "<Figure size 432x288 with 1 Axes>"
      ]
     },
     "metadata": {},
     "output_type": "display_data"
    }
   ],
   "source": [
    "from sklearn.ensemble import RandomForestClassifier\n",
    "\n",
    "RandomForestClassifier(n_estimators=100, \n",
    "                       criterion='gini', max_depth=None,min_samples_split=2, \n",
    "                       min_samples_leaf=1, min_weight_fraction_leaf=0.0, max_features='auto', \n",
    "                       max_leaf_nodes=None,bootstrap=True, oob_score=False, n_jobs=1, random_state=None, \n",
    "                       verbose=0, warm_start=False,class_weight=None)\n",
    "\n",
    "randomforest.fit(TRAIN_X, TRAIN_Y)\n",
    "y_pred_rf = randomforest.predict(TEST_X)\n",
    "print(classification_report(TEST_Y, y_pred_rf))\n",
    "\n",
    "col_names = list(TRAIN_X.columns)\n",
    "featur_imp = pd.Series(randomforest.feature_importances_, col_names).sort_values(ascending = False)\n",
    "featur_imp.plot(kind = 'bar')\n",
    "plt.suptitle('Random Forest', fontsize=20)\n",
    "plt.xlabel('Feature Names', fontsize=18)\n",
    "plt.ylabel('Feature Importance', fontsize=16)\n",
    "plt.show()"
   ]
  },
  {
   "cell_type": "markdown",
   "metadata": {},
   "source": [
    "# New Approach"
   ]
  },
  {
   "cell_type": "code",
   "execution_count": 225,
   "metadata": {},
   "outputs": [
    {
     "data": {
      "text/plain": [
       "Index(['PassengerId', 'Pclass', 'Name', 'Sex', 'Age', 'SibSp', 'Parch',\n",
       "       'Ticket', 'Fare', 'Cabin', 'Embarked'],\n",
       "      dtype='object')"
      ]
     },
     "execution_count": 225,
     "metadata": {},
     "output_type": "execute_result"
    }
   ],
   "source": [
    "data = df_3\n",
    "data.columns"
   ]
  },
  {
   "cell_type": "code",
   "execution_count": 226,
   "metadata": {},
   "outputs": [
    {
     "data": {
      "text/plain": [
       "PassengerId      0\n",
       "Pclass           0\n",
       "Name             0\n",
       "Sex              0\n",
       "Age              0\n",
       "SibSp            0\n",
       "Parch            0\n",
       "Ticket           0\n",
       "Fare             0\n",
       "Cabin          687\n",
       "Embarked         0\n",
       "dtype: int64"
      ]
     },
     "execution_count": 226,
     "metadata": {},
     "output_type": "execute_result"
    }
   ],
   "source": [
    "data.isnull().sum()"
   ]
  },
  {
   "cell_type": "markdown",
   "metadata": {},
   "source": [
    "# Data Cleaning & Missing Value Imputation"
   ]
  },
  {
   "cell_type": "code",
   "execution_count": 227,
   "metadata": {},
   "outputs": [],
   "source": [
    "data.Embarked = data.Embarked.fillna('S')\n",
    "data.Age = data.Age.fillna(data.Age.median())"
   ]
  },
  {
   "cell_type": "code",
   "execution_count": 228,
   "metadata": {},
   "outputs": [],
   "source": [
    "data.Sex = data.Sex.replace('male', 0)\n",
    "data.Sex = data.Sex.replace('female',1)\n",
    "\n",
    "data.Embarked = data.Embarked.replace('S',0)\n",
    "data.Embarked = data.Embarked.replace('C',1)\n",
    "data.Embarked = data.Embarked.replace('Q',2)"
   ]
  },
  {
   "cell_type": "code",
   "execution_count": 229,
   "metadata": {},
   "outputs": [],
   "source": [
    "data = data.drop(['Name','Cabin','Fare','PassengerId','Ticket'], axis = 1)"
   ]
  },
  {
   "cell_type": "code",
   "execution_count": 230,
   "metadata": {},
   "outputs": [
    {
     "name": "stdout",
     "output_type": "stream",
     "text": [
      "<class 'pandas.core.frame.DataFrame'>\n",
      "RangeIndex: 891 entries, 0 to 890\n",
      "Data columns (total 6 columns):\n",
      "Pclass      891 non-null int64\n",
      "Sex         891 non-null int64\n",
      "Age         891 non-null float64\n",
      "SibSp       891 non-null int64\n",
      "Parch       891 non-null int64\n",
      "Embarked    891 non-null float64\n",
      "dtypes: float64(2), int64(4)\n",
      "memory usage: 41.8 KB\n"
     ]
    }
   ],
   "source": [
    "data.info()"
   ]
  },
  {
   "cell_type": "markdown",
   "metadata": {},
   "source": [
    "# Model Training"
   ]
  },
  {
   "cell_type": "code",
   "execution_count": 233,
   "metadata": {},
   "outputs": [
    {
     "name": "stdout",
     "output_type": "stream",
     "text": [
      "             precision    recall  f1-score   support\n",
      "\n",
      "          0       0.87      0.85      0.86       120\n",
      "          1       0.76      0.79      0.77        71\n",
      "\n",
      "avg / total       0.83      0.83      0.83       191\n",
      "\n"
     ]
    },
    {
     "data": {
      "image/png": "[encoded data removed]",
      "text/plain": [
       "<Figure size 432x288 with 1 Axes>"
      ]
     },
     "metadata": {},
     "output_type": "display_data"
    }
   ],
   "source": [
    "x_train_n = data[:700]\n",
    "x_test_n = data[700:]\n",
    "\n",
    "y_train_n = y[:700]\n",
    "y_test_n = y[700:]\n",
    "\n",
    "\n",
    "from sklearn.ensemble import RandomForestClassifier\n",
    "\n",
    "r_new = RandomForestClassifier(n_estimators = 100)\n",
    "r_new.fit(x_train_n, y_train_n)\n",
    "y_pred_n = randomforest.predict(x_test_n)\n",
    "\n",
    "print(classification_report(y_test_n, y_pred_n))\n",
    "\n",
    "col_names = list(x_train_n.columns)\n",
    "featur_imp = pd.Series(r_new.feature_importances_, col_names).sort_values(ascending = False)\n",
    "featur_imp.plot(kind = 'bar')\n",
    "plt.suptitle('Random Forest', fontsize=20)\n",
    "plt.xlabel('Feature Names', fontsize=18)\n",
    "plt.ylabel('Feature Importance', fontsize=16)\n",
    "plt.show()"
   ]
  },
  {
   "cell_type": "markdown",
   "metadata": {},
   "source": [
    "# Deep Neural Network Model"
   ]
  },
  {
   "cell_type": "code",
   "execution_count": 245,
   "metadata": {},
   "outputs": [
    {
     "name": "stderr",
     "output_type": "stream",
     "text": [
      "Using TensorFlow backend.\n"
     ]
    }
   ],
   "source": [
    "import keras \n",
    "from keras.models import Sequential # intitialize the ANN\n",
    "from keras.layers import Dense"
   ]
  },
  {
   "cell_type": "code",
   "execution_count": 256,
   "metadata": {},
   "outputs": [
    {
     "name": "stdout",
     "output_type": "stream",
     "text": [
      "Epoch 1/200\n",
      "800/800 [==============================] - 0s 438us/step - loss: 0.6911 - acc: 0.5950\n",
      "Epoch 2/200\n",
      "800/800 [==============================] - 0s 48us/step - loss: 0.6846 - acc: 0.6150\n",
      "Epoch 3/200\n",
      "800/800 [==============================] - 0s 62us/step - loss: 0.6732 - acc: 0.6150\n",
      "Epoch 4/200\n",
      "800/800 [==============================] - 0s 60us/step - loss: 0.6578 - acc: 0.6150\n",
      "Epoch 5/200\n",
      "800/800 [==============================] - 0s 58us/step - loss: 0.6379 - acc: 0.6600\n",
      "Epoch 6/200\n",
      "800/800 [==============================] - 0s 54us/step - loss: 0.6159 - acc: 0.6975\n",
      "Epoch 7/200\n",
      "800/800 [==============================] - 0s 48us/step - loss: 0.5918 - acc: 0.7137\n",
      "Epoch 8/200\n",
      "800/800 [==============================] - 0s 54us/step - loss: 0.5677 - acc: 0.7275\n",
      "Epoch 9/200\n",
      "800/800 [==============================] - 0s 71us/step - loss: 0.5461 - acc: 0.7500\n",
      "Epoch 10/200\n",
      "800/800 [==============================] - 0s 58us/step - loss: 0.5264 - acc: 0.7612\n",
      "Epoch 11/200\n",
      "800/800 [==============================] - 0s 52us/step - loss: 0.5104 - acc: 0.7913\n",
      "Epoch 12/200\n",
      "800/800 [==============================] - 0s 64us/step - loss: 0.4972 - acc: 0.8000\n",
      "Epoch 13/200\n",
      "800/800 [==============================] - 0s 48us/step - loss: 0.4864 - acc: 0.8025\n",
      "Epoch 14/200\n",
      "800/800 [==============================] - 0s 61us/step - loss: 0.4782 - acc: 0.7963\n",
      "Epoch 15/200\n",
      "800/800 [==============================] - 0s 57us/step - loss: 0.4719 - acc: 0.7950\n",
      "Epoch 16/200\n",
      "800/800 [==============================] - 0s 52us/step - loss: 0.4674 - acc: 0.7987\n",
      "Epoch 17/200\n",
      "800/800 [==============================] - 0s 64us/step - loss: 0.4637 - acc: 0.7950\n",
      "Epoch 18/200\n",
      "800/800 [==============================] - 0s 54us/step - loss: 0.4607 - acc: 0.7987\n",
      "Epoch 19/200\n",
      "800/800 [==============================] - 0s 65us/step - loss: 0.4585 - acc: 0.7963\n",
      "Epoch 20/200\n",
      "800/800 [==============================] - 0s 56us/step - loss: 0.4580 - acc: 0.7987\n",
      "Epoch 21/200\n",
      "800/800 [==============================] - 0s 53us/step - loss: 0.4557 - acc: 0.7963\n",
      "Epoch 22/200\n",
      "800/800 [==============================] - 0s 76us/step - loss: 0.4543 - acc: 0.8013\n",
      "Epoch 23/200\n",
      "800/800 [==============================] - 0s 58us/step - loss: 0.4539 - acc: 0.7987\n",
      "Epoch 24/200\n",
      "800/800 [==============================] - 0s 58us/step - loss: 0.4536 - acc: 0.7987\n",
      "Epoch 25/200\n",
      "800/800 [==============================] - 0s 56us/step - loss: 0.4526 - acc: 0.8013\n",
      "Epoch 26/200\n",
      "800/800 [==============================] - 0s 48us/step - loss: 0.4519 - acc: 0.8013\n",
      "Epoch 27/200\n",
      "800/800 [==============================] - 0s 57us/step - loss: 0.4515 - acc: 0.8025\n",
      "Epoch 28/200\n",
      "800/800 [==============================] - 0s 60us/step - loss: 0.4510 - acc: 0.8025\n",
      "Epoch 29/200\n",
      "800/800 [==============================] - 0s 59us/step - loss: 0.4515 - acc: 0.8025\n",
      "Epoch 30/200\n",
      "800/800 [==============================] - 0s 60us/step - loss: 0.4508 - acc: 0.8025\n",
      "Epoch 31/200\n",
      "800/800 [==============================] - 0s 59us/step - loss: 0.4514 - acc: 0.8000\n",
      "Epoch 32/200\n",
      "800/800 [==============================] - 0s 49us/step - loss: 0.4514 - acc: 0.8062\n",
      "Epoch 33/200\n",
      "800/800 [==============================] - 0s 50us/step - loss: 0.4513 - acc: 0.8013\n",
      "Epoch 34/200\n",
      "800/800 [==============================] - 0s 59us/step - loss: 0.4503 - acc: 0.8013\n",
      "Epoch 35/200\n",
      "800/800 [==============================] - 0s 55us/step - loss: 0.4502 - acc: 0.8038\n",
      "Epoch 36/200\n",
      "800/800 [==============================] - 0s 54us/step - loss: 0.4495 - acc: 0.8025\n",
      "Epoch 37/200\n",
      "800/800 [==============================] - 0s 56us/step - loss: 0.4502 - acc: 0.8013\n",
      "Epoch 38/200\n",
      "800/800 [==============================] - 0s 52us/step - loss: 0.4496 - acc: 0.8038\n",
      "Epoch 39/200\n",
      "800/800 [==============================] - 0s 56us/step - loss: 0.4492 - acc: 0.8025\n",
      "Epoch 40/200\n",
      "800/800 [==============================] - 0s 60us/step - loss: 0.4487 - acc: 0.8025\n",
      "Epoch 41/200\n",
      "800/800 [==============================] - 0s 53us/step - loss: 0.4487 - acc: 0.8025\n",
      "Epoch 42/200\n",
      "800/800 [==============================] - 0s 53us/step - loss: 0.4496 - acc: 0.8050\n",
      "Epoch 43/200\n",
      "800/800 [==============================] - 0s 51us/step - loss: 0.4487 - acc: 0.8025\n",
      "Epoch 44/200\n",
      "800/800 [==============================] - 0s 62us/step - loss: 0.4478 - acc: 0.8038\n",
      "Epoch 45/200\n",
      "800/800 [==============================] - 0s 58us/step - loss: 0.4478 - acc: 0.8050\n",
      "Epoch 46/200\n",
      "800/800 [==============================] - 0s 64us/step - loss: 0.4477 - acc: 0.8050\n",
      "Epoch 47/200\n",
      "800/800 [==============================] - 0s 56us/step - loss: 0.4470 - acc: 0.8062\n",
      "Epoch 48/200\n",
      "800/800 [==============================] - 0s 65us/step - loss: 0.4469 - acc: 0.8050\n",
      "Epoch 49/200\n",
      "800/800 [==============================] - 0s 102us/step - loss: 0.4466 - acc: 0.8062\n",
      "Epoch 50/200\n",
      "800/800 [==============================] - 0s 49us/step - loss: 0.4466 - acc: 0.8062\n",
      "Epoch 51/200\n",
      "800/800 [==============================] - 0s 50us/step - loss: 0.4465 - acc: 0.8050\n",
      "Epoch 52/200\n",
      "800/800 [==============================] - 0s 56us/step - loss: 0.4466 - acc: 0.8062\n",
      "Epoch 53/200\n",
      "800/800 [==============================] - 0s 57us/step - loss: 0.4471 - acc: 0.8038\n",
      "Epoch 54/200\n",
      "800/800 [==============================] - 0s 50us/step - loss: 0.4465 - acc: 0.8038\n",
      "Epoch 55/200\n",
      "800/800 [==============================] - 0s 62us/step - loss: 0.4459 - acc: 0.8062\n",
      "Epoch 56/200\n",
      "800/800 [==============================] - 0s 56us/step - loss: 0.4456 - acc: 0.8062\n",
      "Epoch 57/200\n",
      "800/800 [==============================] - 0s 51us/step - loss: 0.4455 - acc: 0.8075\n",
      "Epoch 58/200\n",
      "800/800 [==============================] - 0s 49us/step - loss: 0.4455 - acc: 0.8062\n",
      "Epoch 59/200\n",
      "800/800 [==============================] - 0s 45us/step - loss: 0.4456 - acc: 0.8050\n",
      "Epoch 60/200\n",
      "800/800 [==============================] - 0s 49us/step - loss: 0.4448 - acc: 0.8050\n",
      "Epoch 61/200\n",
      "800/800 [==============================] - 0s 52us/step - loss: 0.4454 - acc: 0.8062\n",
      "Epoch 62/200\n",
      "800/800 [==============================] - 0s 52us/step - loss: 0.4444 - acc: 0.8075\n",
      "Epoch 63/200\n",
      "800/800 [==============================] - 0s 42us/step - loss: 0.4446 - acc: 0.8062\n",
      "Epoch 64/200\n",
      "800/800 [==============================] - 0s 61us/step - loss: 0.4441 - acc: 0.8050\n",
      "Epoch 65/200\n",
      "800/800 [==============================] - 0s 53us/step - loss: 0.4441 - acc: 0.8075\n",
      "Epoch 66/200\n",
      "800/800 [==============================] - 0s 48us/step - loss: 0.4437 - acc: 0.8062\n",
      "Epoch 67/200\n",
      "800/800 [==============================] - 0s 48us/step - loss: 0.4432 - acc: 0.8087\n",
      "Epoch 68/200\n",
      "800/800 [==============================] - 0s 54us/step - loss: 0.4435 - acc: 0.8075\n",
      "Epoch 69/200\n",
      "800/800 [==============================] - 0s 45us/step - loss: 0.4430 - acc: 0.8075\n",
      "Epoch 70/200\n",
      "800/800 [==============================] - 0s 48us/step - loss: 0.4426 - acc: 0.8075\n",
      "Epoch 71/200\n",
      "800/800 [==============================] - 0s 51us/step - loss: 0.4420 - acc: 0.8075\n",
      "Epoch 72/200\n",
      "800/800 [==============================] - 0s 45us/step - loss: 0.4418 - acc: 0.8075\n",
      "Epoch 73/200\n",
      "800/800 [==============================] - 0s 52us/step - loss: 0.4417 - acc: 0.8075\n",
      "Epoch 74/200\n",
      "800/800 [==============================] - 0s 53us/step - loss: 0.4418 - acc: 0.8075\n",
      "Epoch 75/200\n",
      "800/800 [==============================] - 0s 58us/step - loss: 0.4415 - acc: 0.8075\n",
      "Epoch 76/200\n",
      "800/800 [==============================] - 0s 53us/step - loss: 0.4412 - acc: 0.8087\n",
      "Epoch 77/200\n",
      "800/800 [==============================] - 0s 48us/step - loss: 0.4411 - acc: 0.8075\n",
      "Epoch 78/200\n",
      "800/800 [==============================] - 0s 60us/step - loss: 0.4409 - acc: 0.8075\n",
      "Epoch 79/200\n",
      "800/800 [==============================] - 0s 56us/step - loss: 0.4406 - acc: 0.8075\n",
      "Epoch 80/200\n",
      "800/800 [==============================] - 0s 51us/step - loss: 0.4402 - acc: 0.8075\n",
      "Epoch 81/200\n",
      "800/800 [==============================] - 0s 47us/step - loss: 0.4401 - acc: 0.8075\n",
      "Epoch 82/200\n",
      "800/800 [==============================] - 0s 51us/step - loss: 0.4404 - acc: 0.8100\n",
      "Epoch 83/200\n",
      "800/800 [==============================] - 0s 50us/step - loss: 0.4400 - acc: 0.8100\n",
      "Epoch 84/200\n"
     ]
    },
    {
     "name": "stdout",
     "output_type": "stream",
     "text": [
      "800/800 [==============================] - 0s 44us/step - loss: 0.4396 - acc: 0.8087\n",
      "Epoch 85/200\n",
      "800/800 [==============================] - 0s 45us/step - loss: 0.4403 - acc: 0.8125\n",
      "Epoch 86/200\n",
      "800/800 [==============================] - 0s 54us/step - loss: 0.4395 - acc: 0.8087\n",
      "Epoch 87/200\n",
      "800/800 [==============================] - 0s 48us/step - loss: 0.4391 - acc: 0.8062\n",
      "Epoch 88/200\n",
      "800/800 [==============================] - 0s 57us/step - loss: 0.4388 - acc: 0.8100\n",
      "Epoch 89/200\n",
      "800/800 [==============================] - 0s 45us/step - loss: 0.4387 - acc: 0.8100\n",
      "Epoch 90/200\n",
      "800/800 [==============================] - 0s 51us/step - loss: 0.4386 - acc: 0.8087\n",
      "Epoch 91/200\n",
      "800/800 [==============================] - 0s 52us/step - loss: 0.4385 - acc: 0.8087\n",
      "Epoch 92/200\n",
      "800/800 [==============================] - 0s 52us/step - loss: 0.4384 - acc: 0.8150\n",
      "Epoch 93/200\n",
      "800/800 [==============================] - 0s 52us/step - loss: 0.4379 - acc: 0.8087\n",
      "Epoch 94/200\n",
      "800/800 [==============================] - 0s 50us/step - loss: 0.4383 - acc: 0.8075\n",
      "Epoch 95/200\n",
      "800/800 [==============================] - 0s 54us/step - loss: 0.4377 - acc: 0.8113\n",
      "Epoch 96/200\n",
      "800/800 [==============================] - 0s 47us/step - loss: 0.4379 - acc: 0.8150\n",
      "Epoch 97/200\n",
      "800/800 [==============================] - 0s 50us/step - loss: 0.4372 - acc: 0.8137\n",
      "Epoch 98/200\n",
      "800/800 [==============================] - 0s 52us/step - loss: 0.4371 - acc: 0.8125\n",
      "Epoch 99/200\n",
      "800/800 [==============================] - 0s 52us/step - loss: 0.4368 - acc: 0.8137\n",
      "Epoch 100/200\n",
      "800/800 [==============================] - 0s 62us/step - loss: 0.4371 - acc: 0.8150\n",
      "Epoch 101/200\n",
      "800/800 [==============================] - 0s 60us/step - loss: 0.4367 - acc: 0.8125\n",
      "Epoch 102/200\n",
      "800/800 [==============================] - 0s 60us/step - loss: 0.4365 - acc: 0.8137\n",
      "Epoch 103/200\n",
      "800/800 [==============================] - 0s 74us/step - loss: 0.4362 - acc: 0.8137\n",
      "Epoch 104/200\n",
      "800/800 [==============================] - 0s 50us/step - loss: 0.4369 - acc: 0.8137\n",
      "Epoch 105/200\n",
      "800/800 [==============================] - 0s 59us/step - loss: 0.4360 - acc: 0.8125\n",
      "Epoch 106/200\n",
      "800/800 [==============================] - 0s 66us/step - loss: 0.4359 - acc: 0.8113\n",
      "Epoch 107/200\n",
      "800/800 [==============================] - 0s 55us/step - loss: 0.4366 - acc: 0.8150\n",
      "Epoch 108/200\n",
      "800/800 [==============================] - 0s 78us/step - loss: 0.4358 - acc: 0.8125\n",
      "Epoch 109/200\n",
      "800/800 [==============================] - 0s 59us/step - loss: 0.4353 - acc: 0.8150\n",
      "Epoch 110/200\n",
      "800/800 [==============================] - 0s 55us/step - loss: 0.4354 - acc: 0.8150\n",
      "Epoch 111/200\n",
      "800/800 [==============================] - 0s 52us/step - loss: 0.4350 - acc: 0.8137\n",
      "Epoch 112/200\n",
      "800/800 [==============================] - 0s 70us/step - loss: 0.4352 - acc: 0.8125\n",
      "Epoch 113/200\n",
      "800/800 [==============================] - 0s 47us/step - loss: 0.4351 - acc: 0.8113\n",
      "Epoch 114/200\n",
      "800/800 [==============================] - 0s 46us/step - loss: 0.4344 - acc: 0.8137\n",
      "Epoch 115/200\n",
      "800/800 [==============================] - 0s 50us/step - loss: 0.4344 - acc: 0.8137\n",
      "Epoch 116/200\n",
      "800/800 [==============================] - 0s 49us/step - loss: 0.4344 - acc: 0.8137\n",
      "Epoch 117/200\n",
      "800/800 [==============================] - 0s 51us/step - loss: 0.4340 - acc: 0.8137\n",
      "Epoch 118/200\n",
      "800/800 [==============================] - 0s 45us/step - loss: 0.4343 - acc: 0.8113\n",
      "Epoch 119/200\n",
      "800/800 [==============================] - 0s 42us/step - loss: 0.4337 - acc: 0.8150\n",
      "Epoch 120/200\n",
      "800/800 [==============================] - 0s 54us/step - loss: 0.4337 - acc: 0.8150\n",
      "Epoch 121/200\n",
      "800/800 [==============================] - 0s 51us/step - loss: 0.4337 - acc: 0.8137\n",
      "Epoch 122/200\n",
      "800/800 [==============================] - 0s 46us/step - loss: 0.4334 - acc: 0.8137\n",
      "Epoch 123/200\n",
      "800/800 [==============================] - 0s 46us/step - loss: 0.4335 - acc: 0.8137\n",
      "Epoch 124/200\n",
      "800/800 [==============================] - 0s 46us/step - loss: 0.4332 - acc: 0.8113\n",
      "Epoch 125/200\n",
      "800/800 [==============================] - 0s 51us/step - loss: 0.4334 - acc: 0.8137\n",
      "Epoch 126/200\n",
      "800/800 [==============================] - 0s 53us/step - loss: 0.4331 - acc: 0.8137\n",
      "Epoch 127/200\n",
      "800/800 [==============================] - 0s 51us/step - loss: 0.4329 - acc: 0.8137\n",
      "Epoch 128/200\n",
      "800/800 [==============================] - 0s 47us/step - loss: 0.4328 - acc: 0.8137\n",
      "Epoch 129/200\n",
      "800/800 [==============================] - 0s 45us/step - loss: 0.4329 - acc: 0.8125\n",
      "Epoch 130/200\n",
      "800/800 [==============================] - 0s 55us/step - loss: 0.4329 - acc: 0.8137\n",
      "Epoch 131/200\n",
      "800/800 [==============================] - ETA: 0s - loss: 0.5927 - acc: 0.812 - 0s 45us/step - loss: 0.4325 - acc: 0.8125\n",
      "Epoch 132/200\n",
      "800/800 [==============================] - 0s 49us/step - loss: 0.4327 - acc: 0.8137\n",
      "Epoch 133/200\n",
      "800/800 [==============================] - 0s 58us/step - loss: 0.4328 - acc: 0.8125\n",
      "Epoch 134/200\n",
      "800/800 [==============================] - 0s 52us/step - loss: 0.4323 - acc: 0.8125\n",
      "Epoch 135/200\n",
      "800/800 [==============================] - 0s 59us/step - loss: 0.4323 - acc: 0.8125\n",
      "Epoch 136/200\n",
      "800/800 [==============================] - 0s 55us/step - loss: 0.4322 - acc: 0.8137\n",
      "Epoch 137/200\n",
      "800/800 [==============================] - 0s 50us/step - loss: 0.4323 - acc: 0.8125\n",
      "Epoch 138/200\n",
      "800/800 [==============================] - 0s 54us/step - loss: 0.4318 - acc: 0.8113\n",
      "Epoch 139/200\n",
      "800/800 [==============================] - 0s 61us/step - loss: 0.4316 - acc: 0.8137\n",
      "Epoch 140/200\n",
      "800/800 [==============================] - 0s 46us/step - loss: 0.4316 - acc: 0.8125\n",
      "Epoch 141/200\n",
      "800/800 [==============================] - 0s 52us/step - loss: 0.4314 - acc: 0.8125\n",
      "Epoch 142/200\n",
      "800/800 [==============================] - 0s 44us/step - loss: 0.4314 - acc: 0.8125\n",
      "Epoch 143/200\n",
      "800/800 [==============================] - 0s 46us/step - loss: 0.4321 - acc: 0.8137\n",
      "Epoch 144/200\n",
      "800/800 [==============================] - 0s 47us/step - loss: 0.4316 - acc: 0.8100\n",
      "Epoch 145/200\n",
      "800/800 [==============================] - 0s 47us/step - loss: 0.4321 - acc: 0.8125\n",
      "Epoch 146/200\n",
      "800/800 [==============================] - 0s 41us/step - loss: 0.4312 - acc: 0.8137\n",
      "Epoch 147/200\n",
      "800/800 [==============================] - 0s 45us/step - loss: 0.4311 - acc: 0.8100\n",
      "Epoch 148/200\n",
      "800/800 [==============================] - 0s 47us/step - loss: 0.4314 - acc: 0.8100\n",
      "Epoch 149/200\n",
      "800/800 [==============================] - 0s 46us/step - loss: 0.4308 - acc: 0.8125\n",
      "Epoch 150/200\n",
      "800/800 [==============================] - 0s 48us/step - loss: 0.4310 - acc: 0.8113\n",
      "Epoch 151/200\n",
      "800/800 [==============================] - 0s 50us/step - loss: 0.4308 - acc: 0.8113\n",
      "Epoch 152/200\n",
      "800/800 [==============================] - 0s 46us/step - loss: 0.4304 - acc: 0.8113\n",
      "Epoch 153/200\n",
      "800/800 [==============================] - 0s 46us/step - loss: 0.4305 - acc: 0.8100\n",
      "Epoch 154/200\n",
      "800/800 [==============================] - 0s 54us/step - loss: 0.4304 - acc: 0.8125\n",
      "Epoch 155/200\n",
      "800/800 [==============================] - 0s 50us/step - loss: 0.4302 - acc: 0.8125\n",
      "Epoch 156/200\n",
      "800/800 [==============================] - 0s 52us/step - loss: 0.4303 - acc: 0.8113\n",
      "Epoch 157/200\n",
      "800/800 [==============================] - 0s 49us/step - loss: 0.4304 - acc: 0.8125\n",
      "Epoch 158/200\n",
      "800/800 [==============================] - 0s 48us/step - loss: 0.4302 - acc: 0.8137\n",
      "Epoch 159/200\n",
      "800/800 [==============================] - 0s 61us/step - loss: 0.4302 - acc: 0.8137\n",
      "Epoch 160/200\n",
      "800/800 [==============================] - 0s 42us/step - loss: 0.4301 - acc: 0.8100\n",
      "Epoch 161/200\n",
      "800/800 [==============================] - 0s 60us/step - loss: 0.4294 - acc: 0.8125\n",
      "Epoch 162/200\n",
      "800/800 [==============================] - 0s 53us/step - loss: 0.4302 - acc: 0.8113\n",
      "Epoch 163/200\n",
      "800/800 [==============================] - 0s 46us/step - loss: 0.4294 - acc: 0.8125\n",
      "Epoch 164/200\n",
      "800/800 [==============================] - 0s 44us/step - loss: 0.4298 - acc: 0.8125\n",
      "Epoch 165/200\n",
      "800/800 [==============================] - 0s 52us/step - loss: 0.4297 - acc: 0.8125\n",
      "Epoch 166/200\n"
     ]
    },
    {
     "name": "stdout",
     "output_type": "stream",
     "text": [
      "800/800 [==============================] - 0s 48us/step - loss: 0.4308 - acc: 0.8125\n",
      "Epoch 167/200\n",
      "800/800 [==============================] - 0s 53us/step - loss: 0.4293 - acc: 0.8137\n",
      "Epoch 168/200\n",
      "800/800 [==============================] - 0s 49us/step - loss: 0.4290 - acc: 0.8125\n",
      "Epoch 169/200\n",
      "800/800 [==============================] - 0s 46us/step - loss: 0.4292 - acc: 0.8125\n",
      "Epoch 170/200\n",
      "800/800 [==============================] - 0s 51us/step - loss: 0.4287 - acc: 0.8125\n",
      "Epoch 171/200\n",
      "800/800 [==============================] - 0s 48us/step - loss: 0.4287 - acc: 0.8113\n",
      "Epoch 172/200\n",
      "800/800 [==============================] - 0s 56us/step - loss: 0.4287 - acc: 0.8087\n",
      "Epoch 173/200\n",
      "800/800 [==============================] - 0s 42us/step - loss: 0.4289 - acc: 0.8137\n",
      "Epoch 174/200\n",
      "800/800 [==============================] - 0s 57us/step - loss: 0.4290 - acc: 0.8125\n",
      "Epoch 175/200\n",
      "800/800 [==============================] - 0s 47us/step - loss: 0.4280 - acc: 0.8125\n",
      "Epoch 176/200\n",
      "800/800 [==============================] - 0s 53us/step - loss: 0.4283 - acc: 0.8113\n",
      "Epoch 177/200\n",
      "800/800 [==============================] - 0s 51us/step - loss: 0.4283 - acc: 0.8100\n",
      "Epoch 178/200\n",
      "800/800 [==============================] - 0s 52us/step - loss: 0.4287 - acc: 0.8125\n",
      "Epoch 179/200\n",
      "800/800 [==============================] - 0s 48us/step - loss: 0.4284 - acc: 0.8087\n",
      "Epoch 180/200\n",
      "800/800 [==============================] - 0s 54us/step - loss: 0.4275 - acc: 0.8113\n",
      "Epoch 181/200\n",
      "800/800 [==============================] - 0s 45us/step - loss: 0.4285 - acc: 0.8113\n",
      "Epoch 182/200\n",
      "800/800 [==============================] - 0s 46us/step - loss: 0.4274 - acc: 0.8100\n",
      "Epoch 183/200\n",
      "800/800 [==============================] - 0s 51us/step - loss: 0.4275 - acc: 0.8100\n",
      "Epoch 184/200\n",
      "800/800 [==============================] - 0s 46us/step - loss: 0.4275 - acc: 0.8100\n",
      "Epoch 185/200\n",
      "800/800 [==============================] - 0s 49us/step - loss: 0.4276 - acc: 0.8100\n",
      "Epoch 186/200\n",
      "800/800 [==============================] - 0s 61us/step - loss: 0.4272 - acc: 0.8113\n",
      "Epoch 187/200\n",
      "800/800 [==============================] - 0s 47us/step - loss: 0.4271 - acc: 0.8087\n",
      "Epoch 188/200\n",
      "800/800 [==============================] - 0s 53us/step - loss: 0.4270 - acc: 0.8113\n",
      "Epoch 189/200\n",
      "800/800 [==============================] - 0s 86us/step - loss: 0.4268 - acc: 0.8100\n",
      "Epoch 190/200\n",
      "800/800 [==============================] - 0s 67us/step - loss: 0.4266 - acc: 0.8100\n",
      "Epoch 191/200\n",
      "800/800 [==============================] - 0s 53us/step - loss: 0.4275 - acc: 0.8100\n",
      "Epoch 192/200\n",
      "800/800 [==============================] - 0s 60us/step - loss: 0.4272 - acc: 0.8125\n",
      "Epoch 193/200\n",
      "800/800 [==============================] - 0s 44us/step - loss: 0.4264 - acc: 0.8113\n",
      "Epoch 194/200\n",
      "800/800 [==============================] - 0s 67us/step - loss: 0.4262 - acc: 0.8113\n",
      "Epoch 195/200\n",
      "800/800 [==============================] - 0s 47us/step - loss: 0.4261 - acc: 0.8100\n",
      "Epoch 196/200\n",
      "800/800 [==============================] - 0s 59us/step - loss: 0.4262 - acc: 0.8100\n",
      "Epoch 197/200\n",
      "800/800 [==============================] - 0s 43us/step - loss: 0.4261 - acc: 0.8100\n",
      "Epoch 198/200\n",
      "800/800 [==============================] - 0s 46us/step - loss: 0.4258 - acc: 0.8113\n",
      "Epoch 199/200\n",
      "800/800 [==============================] - 0s 48us/step - loss: 0.4258 - acc: 0.8100\n",
      "Epoch 200/200\n",
      "800/800 [==============================] - 0s 49us/step - loss: 0.4259 - acc: 0.8100\n"
     ]
    },
    {
     "data": {
      "text/plain": [
       "<keras.callbacks.History at 0x7fb30667df60>"
      ]
     },
     "execution_count": 256,
     "metadata": {},
     "output_type": "execute_result"
    }
   ],
   "source": [
    "# Initialising the NN\n",
    "model = Sequential()\n",
    "\n",
    "# layers\n",
    "model.add(Dense(units = 9, kernel_initializer = 'uniform', activation = 'relu', input_dim = 14))\n",
    "#model.add(Dense(units = 9, kernel_initializer = 'uniform', activation = 'relu'))\n",
    "#model.add(Dense(units = 5, kernel_initializer = 'uniform', activation = 'relu'))\n",
    "model.add(Dense(units = 1, kernel_initializer = 'uniform', activation = 'sigmoid'))\n",
    "\n",
    "# Compiling the ANN\n",
    "model.compile(optimizer = 'adam', loss = 'binary_crossentropy', metrics = ['accuracy'])\n",
    "\n",
    "# Train the ANN\n",
    "model.fit(TRAIN_X, TRAIN_Y, batch_size = 32, epochs = 200)"
   ]
  },
  {
   "cell_type": "code",
   "execution_count": 257,
   "metadata": {},
   "outputs": [
    {
     "name": "stdout",
     "output_type": "stream",
     "text": [
      "             precision    recall  f1-score   support\n",
      "\n",
      "          0       0.85      0.88      0.86        57\n",
      "          1       0.78      0.74      0.76        34\n",
      "\n",
      "avg / total       0.82      0.82      0.82        91\n",
      "\n"
     ]
    }
   ],
   "source": [
    "y_pred = model.predict(TEST_X)\n",
    "y_final = (y_pred > 0.5).astype(int).reshape(TEST_X.shape[0])\n",
    "\n",
    "print(classification_report(TEST_Y, y_final))"
   ]
  }
 ],
 "metadata": {
  "kernelspec": {
   "display_name": "Python 3",
   "language": "python",
   "name": "python3"
  },
  "language_info": {
   "codemirror_mode": {
    "name": "ipython",
    "version": 3
   },
   "file_extension": ".py",
   "mimetype": "text/x-python",
   "name": "python",
   "nbconvert_exporter": "python",
   "pygments_lexer": "ipython3",
   "version": "3.5.2"
  }
 },
 "nbformat": 4,
 "nbformat_minor": 2
}
